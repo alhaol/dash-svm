{
 "cells": [
  {
   "cell_type": "code",
   "execution_count": 1,
   "metadata": {},
   "outputs": [
    {
     "name": "stdout",
     "output_type": "stream",
     "text": [
      " * Serving Flask app \"__main__\" (lazy loading)\n",
      " * Environment: production\n",
      "   WARNING: Do not use the development server in a production environment.\n",
      "   Use a production WSGI server instead.\n",
      " * Debug mode: on\n"
     ]
    },
    {
     "name": "stderr",
     "output_type": "stream",
     "text": [
      " * Restarting with stat\n"
     ]
    },
    {
     "ename": "SystemExit",
     "evalue": "1",
     "output_type": "error",
     "traceback": [
      "An exception has occurred, use %tb to see the full traceback.\n",
      "\u001b[1;31mSystemExit\u001b[0m\u001b[1;31m:\u001b[0m 1\n"
     ]
    },
    {
     "name": "stderr",
     "output_type": "stream",
     "text": [
      "C:\\ProgramData\\Anaconda3\\lib\\site-packages\\IPython\\core\\interactiveshell.py:3275: UserWarning:\n",
      "\n",
      "To exit: use 'exit', 'quit', or Ctrl-D.\n",
      "\n"
     ]
    }
   ],
   "source": [
    "\n",
    "\n",
    "import dash\n",
    "import dash_core_components as dcc\n",
    "import dash_html_components as html\n",
    "\n",
    "\n",
    "app = dash.Dash()\n",
    "\n",
    "Fig1= dcc.Graph(\n",
    "        id='fig1',\n",
    "        figure={\n",
    "            'data': [\n",
    "                {'x': [1, 2, 3, 4, 5], 'y': [9, 6, 2, 1, 5], 'type': 'line', 'name': 'Boats'},\n",
    "                {'x': [1, 2, 3, 4, 5], 'y': [8, 7, 2, 7, 3], 'type': 'bar', 'name': 'Cars'},\n",
    "            ],\n",
    "            'layout': {\n",
    "                'title': 'Basic Dash Example'\n",
    "            }\n",
    "        }\n",
    "    )\n",
    "\n",
    "Fig2= dcc.Graph(\n",
    "        id='fig2',\n",
    "        figure={\n",
    "            'data': [\n",
    "                {'x': [1, 2, 3, 4, 5], 'y': [9, 6, 2, 1, 5], 'type': 'line', 'name': 'Boats'},\n",
    "                {'x': [1, 2, 3, 4, 5], 'y': [8, 7, 0, 7, 0], 'type': 'bar', 'name': 'Cars'},\n",
    "            ],\n",
    "            'layout': {\n",
    "                'title': 'Basic Dash Example'\n",
    "            }\n",
    "        }\n",
    "    )\n",
    "Fig3= dcc.Graph(\n",
    "        id='fig3',\n",
    "        figure={\n",
    "            'data': [\n",
    "                {'x': [1, 2, 3, 4, 5], 'y': [9, 6, 2, 1, 100], 'type': 'line', 'name': 'Boats'},\n",
    "                {'x': [1, 2, 3, 4, 5], 'y': [8, 7, 0, 7, 0], 'type': 'bar', 'name': 'Cars'},\n",
    "            ],\n",
    "            'layout': {\n",
    "                'title': 'Basic Dash Example'\n",
    "            }\n",
    "        }\n",
    "    )\n",
    "\n",
    "app.layout = html.Div(children=[\n",
    "    html.H1(children='Dash Tutorials'),\n",
    "    Fig1,\n",
    "    Fig2,\n",
    "    Fig3\n",
    "])\n",
    "\n",
    "# Running the server\n",
    "if __name__ == '__main__':\n",
    "    app.run_server(debug=False,host='0.0.0.0',port='7777')"
   ]
  },
  {
   "cell_type": "code",
   "execution_count": null,
   "metadata": {},
   "outputs": [],
   "source": []
  }
 ],
 "metadata": {
  "kernelspec": {
   "display_name": "Python 3",
   "language": "python",
   "name": "python3"
  },
  "language_info": {
   "codemirror_mode": {
    "name": "ipython",
    "version": 3
   },
   "file_extension": ".py",
   "mimetype": "text/x-python",
   "name": "python",
   "nbconvert_exporter": "python",
   "pygments_lexer": "ipython3",
   "version": "3.7.1"
  }
 },
 "nbformat": 4,
 "nbformat_minor": 2
}
